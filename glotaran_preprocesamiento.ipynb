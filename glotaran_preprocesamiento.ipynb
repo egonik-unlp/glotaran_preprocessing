{
  "nbformat": 4,
  "nbformat_minor": 0,
  "metadata": {
    "colab": {
      "name": "glotaran_preprocesamiento.ipynb",
      "provenance": [],
      "include_colab_link": true
    },
    "kernelspec": {
      "name": "python3",
      "display_name": "Python 3"
    },
    "language_info": {
      "name": "python"
    }
  },
  "cells": [
    {
      "cell_type": "markdown",
      "metadata": {
        "id": "view-in-github",
        "colab_type": "text"
      },
      "source": [
        "<a href=\"https://colab.research.google.com/github/egonik-unlp/glotaran_preprocessing/blob/main/glotaran_preprocesamiento.ipynb\" target=\"_parent\"><img src=\"https://colab.research.google.com/assets/colab-badge.svg\" alt=\"Open In Colab\"/></a>"
      ]
    },
    {
      "cell_type": "code",
      "metadata": {
        "colab": {
          "resources": {
            "http://localhost:8080/nbextensions/google.colab/files.js": {
              "data": "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",
              "ok": true,
              "headers": [
                [
                  "content-type",
                  "application/javascript"
                ]
              ],
              "status": 200,
              "status_text": ""
            }
          },
          "base_uri": "https://localhost:8080/",
          "height": 174
        },
        "id": "yyROePIz-oPn",
        "outputId": "b9e2db0b-65b0-45fa-d382-ecd99ae0767c"
      },
      "source": [
        "from google.colab import files\n",
        "uploaded_files=files.upload()\n",
        "!rm -rf results\n",
        "!mkdir results"
      ],
      "execution_count": 1,
      "outputs": [
        {
          "output_type": "display_data",
          "data": {
            "text/html": [
              "\n",
              "     <input type=\"file\" id=\"files-9f280cd7-6e82-4cde-809d-d2c6c41253d3\" name=\"files[]\" multiple disabled\n",
              "        style=\"border:none\" />\n",
              "     <output id=\"result-9f280cd7-6e82-4cde-809d-d2c6c41253d3\">\n",
              "      Upload widget is only available when the cell has been executed in the\n",
              "      current browser session. Please rerun this cell to enable.\n",
              "      </output>\n",
              "      <script src=\"/nbextensions/google.colab/files.js\"></script> "
            ],
            "text/plain": [
              "<IPython.core.display.HTML object>"
            ]
          },
          "metadata": {}
        },
        {
          "output_type": "stream",
          "name": "stdout",
          "text": [
            "Saving MOF1 DMSO Ar 350 700 nm 1000us.txt to MOF1 DMSO Ar 350 700 nm 1000us.txt\n",
            "Saving MOF2 DMSO Ar 350 700 nm 1000us.txt to MOF2 DMSO Ar 350 700 nm 1000us.txt\n",
            "Saving MOF3 DMSO Ar 350 700 nm 1000us.txt to MOF3 DMSO Ar 350 700 nm 1000us.txt\n",
            "Saving TCPP DMSO AR 350 700 nm 100 us.txt to TCPP DMSO AR 350 700 nm 100 us.txt\n"
          ]
        }
      ]
    },
    {
      "cell_type": "code",
      "metadata": {
        "id": "mYcVXhOlPMki",
        "colab": {
          "base_uri": "https://localhost:8080/",
          "height": 275
        },
        "outputId": "588849f7-6eee-42cb-8d4a-3366afeaf061"
      },
      "source": [
        "#@title Conversor a formato Glotaran {display-mode: \"form\"}\n",
        "\n",
        "# This code will be hidden when the notebook is loaded.\n",
        "\n",
        "\n",
        "#!/usr/bin/env python\n",
        "# -*- coding: utf-8 -*-\n",
        "import matplotlib.pyplot as plt\n",
        "import os\n",
        "import pandas as pd\n",
        "import numpy as np\n",
        "import sys\n",
        "import re\n",
        "\n",
        "\n",
        "class Glotafile:\n",
        "    def __init__(self, file, fraction=.10):\n",
        "        self.file=file\n",
        "        self.fraction=fraction\n",
        "\n",
        "    def parse_wavelengths(self):\n",
        "        file=open(self.file)\n",
        "        list_of_lines=[line for line in file if line != \"\\n\"]\n",
        "        wavelengths_=list_of_lines[1].split(\",\")[1:-1]\n",
        "        wavelengths_proc=[float(re.findall(r\"\\d{3}\\.*\\d*?\",wavelength)[0]) for wavelength in wavelengths_]\n",
        "        wavelengths_proc.append(\"\")\n",
        "        wavelengths=np.array(wavelengths_proc)\n",
        "        file.close()\n",
        "        return wavelengths\n",
        "    @property\n",
        "    def headers(self):\n",
        "        wavelengths=self.parse_wavelengths()\n",
        "        headers_=np.full((int(wavelengths.shape[0]),4),\"\",dtype=object)\n",
        "        headers_[0]=[self.file,\"Holi\",\"wavelength explicit\",\"intervalnr {}\".format(wavelengths.shape[0]-1)]\n",
        "        return np.vstack((headers_.T,wavelengths))\n",
        "    @property\n",
        "    def body(self):\n",
        "        data_array=pd.read_csv(self.file, sep=',', header=None, skiprows=11).to_numpy()\n",
        "        time=data_array[:,0]*1000\n",
        "        time=(time - time[int(time.shape[0]*self.fraction)]).reshape(-1,1)\n",
        "        decays=data_array[:,1:-1]\n",
        "        return np.hstack((time, decays))\n",
        "\n",
        "\n",
        "    def build(self, filename=None):\n",
        "        if not filename:\n",
        "            filename=\"results/{}_glotaran.ascii\".format(self.file[:-4])\n",
        "        data=np.vstack((self.headers,self.body))\n",
        "        np.savetxt(filename, data, fmt=\"%s\", delimiter='\\t')\n",
        "        return data, filename\n",
        "def plot(glo, filename):\n",
        "  yy,xx=np.meshgrid(glo[5:,0], pd.to_numeric(glo[4,:-1]))\n",
        "  plt.contourf(xx,yy, glo[5:,1:].T)\n",
        "  plt.savefig(\"{}.png\".format(filename[:-6]))\n",
        "  plt.clf()\n",
        "\n",
        "\n",
        "\n",
        "for file in uploaded_files.keys():\n",
        "  glo,filename=Glotafile(file).build()\n",
        "  plot(glo, filename)\n",
        "!zip -r results.zip /content/results/\n",
        "files.download(\"results.zip\")"
      ],
      "execution_count": 18,
      "outputs": [
        {
          "output_type": "stream",
          "name": "stdout",
          "text": [
            "['1 350.00 nm (LpTimeMap)(MOF1 DMSO Ar 350 400 nm 1000us)(LpTimeMap)', '2 360.00 nm (LpTimeMap)(MOF1 DMSO Ar 350 400 nm 1000us)(LpTimeMap)', '3 370.00 nm (LpTimeMap)(MOF1 DMSO Ar 350 400 nm 1000us)(LpTimeMap)', '4 380.00 nm (LpTimeMap)(MOF1 DMSO Ar 350 400 nm 1000us)(LpTimeMap)', '5 390.00 nm (LpTimeMap)(MOF1 DMSO Ar 350 400 nm 1000us)(LpTimeMap)', '6 400.00 nm (LpTimeMap)(MOF1 DMSO Ar 350 400 nm 1000us)(LpTimeMap)', '1 410.00 nm (LpTimeMap)(MOF1 DMSO Ar 410 540 nm 1000us)(LpTimeMap)', '2 420.00 nm (LpTimeMap)(MOF1 DMSO Ar 410 540 nm 1000us)(LpTimeMap)', '3 430.00 nm (LpTimeMap)(MOF1 DMSO Ar 410 540 nm 1000us)(LpTimeMap)', '4 440.00 nm (LpTimeMap)(MOF1 DMSO Ar 410 540 nm 1000us)(LpTimeMap)', '5 450.00 nm (LpTimeMap)(MOF1 DMSO Ar 410 540 nm 1000us)(LpTimeMap)', '6 460.00 nm (LpTimeMap)(MOF1 DMSO Ar 410 540 nm 1000us)(LpTimeMap)', '7 470.00 nm (LpTimeMap)(MOF1 DMSO Ar 410 540 nm 1000us)(LpTimeMap)', '8 480.00 nm (LpTimeMap)(MOF1 DMSO Ar 410 540 nm 1000us)(LpTimeMap)', '9 490.00 nm (LpTimeMap)(MOF1 DMSO Ar 410 540 nm 1000us)(LpTimeMap)', '10 500.00 nm (LpTimeMap)(MOF1 DMSO Ar 410 540 nm 1000us)(LpTimeMap)', '11 510.00 nm (LpTimeMap)(MOF1 DMSO Ar 410 540 nm 1000us)(LpTimeMap)', '12 520.00 nm (LpTimeMap)(MOF1 DMSO Ar 410 540 nm 1000us)(LpTimeMap)', '13 530.00 nm (LpTimeMap)(MOF1 DMSO Ar 410 540 nm 1000us)(LpTimeMap)', '14 540.00 nm (LpTimeMap)(MOF1 DMSO Ar 410 540 nm 1000us)(LpTimeMap)', '1 550.00 nm (LpTimeMap)(MOF1 DMSO Ar 550 700 nm 1000us)(LpTimeMap)', '2 560.00 nm (LpTimeMap)(MOF1 DMSO Ar 550 700 nm 1000us)(LpTimeMap)', '3 570.00 nm (LpTimeMap)(MOF1 DMSO Ar 550 700 nm 1000us)(LpTimeMap)', '4 580.00 nm (LpTimeMap)(MOF1 DMSO Ar 550 700 nm 1000us)(LpTimeMap)', '5 590.00 nm (LpTimeMap)(MOF1 DMSO Ar 550 700 nm 1000us)(LpTimeMap)', '6 600.00 nm (LpTimeMap)(MOF1 DMSO Ar 550 700 nm 1000us)(LpTimeMap)', '7 610.00 nm (LpTimeMap)(MOF1 DMSO Ar 550 700 nm 1000us)(LpTimeMap)', '8 620.00 nm (LpTimeMap)(MOF1 DMSO Ar 550 700 nm 1000us)(LpTimeMap)', '9 630.00 nm (LpTimeMap)(MOF1 DMSO Ar 550 700 nm 1000us)(LpTimeMap)', '10 640.00 nm (LpTimeMap)(MOF1 DMSO Ar 550 700 nm 1000us)(LpTimeMap)', '11 650.00 nm (LpTimeMap)(MOF1 DMSO Ar 550 700 nm 1000us)(LpTimeMap)', '12 660.00 nm (LpTimeMap)(MOF1 DMSO Ar 550 700 nm 1000us)(LpTimeMap)', '13 670.00 nm (LpTimeMap)(MOF1 DMSO Ar 550 700 nm 1000us)(LpTimeMap)', '14 680.00 nm (LpTimeMap)(MOF1 DMSO Ar 550 700 nm 1000us)(LpTimeMap)', '15 690.00 nm (LpTimeMap)(MOF1 DMSO Ar 550 700 nm 1000us)(LpTimeMap)', '16 700.00 nm (LpTimeMap)(MOF1 DMSO Ar 550 700 nm 1000us)(LpTimeMap)']\n",
            "['1 350.00 nm (LpTimeMap)(MOF2 DMSO Ar 350 400 nm 1000us)(LpTimeMap)', '2 360.00 nm (LpTimeMap)(MOF2 DMSO Ar 350 400 nm 1000us)(LpTimeMap)', '3 370.00 nm (LpTimeMap)(MOF2 DMSO Ar 350 400 nm 1000us)(LpTimeMap)', '4 380.00 nm (LpTimeMap)(MOF2 DMSO Ar 350 400 nm 1000us)(LpTimeMap)', '5 390.00 nm (LpTimeMap)(MOF2 DMSO Ar 350 400 nm 1000us)(LpTimeMap)', '6 400.00 nm (LpTimeMap)(MOF2 DMSO Ar 350 400 nm 1000us)(LpTimeMap)', '1 410.00 nm (LpTimeMap)(MOF2 DMSO Ar 410 550 nm 1000us)(LpTimeMap)', '2 420.00 nm (LpTimeMap)(MOF2 DMSO Ar 410 550 nm 1000us)(LpTimeMap)', '3 430.00 nm (LpTimeMap)(MOF2 DMSO Ar 410 550 nm 1000us)(LpTimeMap)', '4 440.00 nm (LpTimeMap)(MOF2 DMSO Ar 410 550 nm 1000us)(LpTimeMap)', '5 450.00 nm (LpTimeMap)(MOF2 DMSO Ar 410 550 nm 1000us)(LpTimeMap)', '6 460.00 nm (LpTimeMap)(MOF2 DMSO Ar 410 550 nm 1000us)(LpTimeMap)', '7 470.00 nm (LpTimeMap)(MOF2 DMSO Ar 410 550 nm 1000us)(LpTimeMap)', '8 480.00 nm (LpTimeMap)(MOF2 DMSO Ar 410 550 nm 1000us)(LpTimeMap)', '9 490.00 nm (LpTimeMap)(MOF2 DMSO Ar 410 550 nm 1000us)(LpTimeMap)', '10 500.00 nm (LpTimeMap)(MOF2 DMSO Ar 410 550 nm 1000us)(LpTimeMap)', '11 510.00 nm (LpTimeMap)(MOF2 DMSO Ar 410 550 nm 1000us)(LpTimeMap)', '12 520.00 nm (LpTimeMap)(MOF2 DMSO Ar 410 550 nm 1000us)(LpTimeMap)', '13 530.00 nm (LpTimeMap)(MOF2 DMSO Ar 410 550 nm 1000us)(LpTimeMap)', '14 540.00 nm (LpTimeMap)(MOF2 DMSO Ar 410 550 nm 1000us)(LpTimeMap)', '15 550.00 nm (LpTimeMap)(MOF2 DMSO Ar 410 550 nm 1000us)(LpTimeMap)', '1 560.00 nm (LpTimeMap)(MOF2 DMSO Ar 560 700 nm 1000us)(LpTimeMap)', '2 570.00 nm (LpTimeMap)(MOF2 DMSO Ar 560 700 nm 1000us)(LpTimeMap)', '3 580.00 nm (LpTimeMap)(MOF2 DMSO Ar 560 700 nm 1000us)(LpTimeMap)', '4 590.00 nm (LpTimeMap)(MOF2 DMSO Ar 560 700 nm 1000us)(LpTimeMap)', '5 600.00 nm (LpTimeMap)(MOF2 DMSO Ar 560 700 nm 1000us)(LpTimeMap)', '6 610.00 nm (LpTimeMap)(MOF2 DMSO Ar 560 700 nm 1000us)(LpTimeMap)', '7 620.00 nm (LpTimeMap)(MOF2 DMSO Ar 560 700 nm 1000us)(LpTimeMap)', '8 630.00 nm (LpTimeMap)(MOF2 DMSO Ar 560 700 nm 1000us)(LpTimeMap)', '9 640.00 nm (LpTimeMap)(MOF2 DMSO Ar 560 700 nm 1000us)(LpTimeMap)', '10 650.00 nm (LpTimeMap)(MOF2 DMSO Ar 560 700 nm 1000us)(LpTimeMap)', '11 660.00 nm (LpTimeMap)(MOF2 DMSO Ar 560 700 nm 1000us)(LpTimeMap)', '12 670.00 nm (LpTimeMap)(MOF2 DMSO Ar 560 700 nm 1000us)(LpTimeMap)', '13 680.00 nm (LpTimeMap)(MOF2 DMSO Ar 560 700 nm 1000us)(LpTimeMap)', '14 690.00 nm (LpTimeMap)(MOF2 DMSO Ar 560 700 nm 1000us)(LpTimeMap)', '15 700.00 nm (LpTimeMap)(MOF2 DMSO Ar 560 700 nm 1000us)(LpTimeMap)']\n",
            "['1 350.00 nm (LpTimeMap)(MOF3 DMSO Ar 350 400 nm 1000us)(LpTimeMap)', '2 360.00 nm (LpTimeMap)(MOF3 DMSO Ar 350 400 nm 1000us)(LpTimeMap)', '3 370.00 nm (LpTimeMap)(MOF3 DMSO Ar 350 400 nm 1000us)(LpTimeMap)', '4 380.00 nm (LpTimeMap)(MOF3 DMSO Ar 350 400 nm 1000us)(LpTimeMap)', '5 390.00 nm (LpTimeMap)(MOF3 DMSO Ar 350 400 nm 1000us)(LpTimeMap)', '6 400.00 nm (LpTimeMap)(MOF3 DMSO Ar 350 400 nm 1000us)(LpTimeMap)', '1 410.00 nm (LpTimeMap)(MOF3 DMSO Ar 410 540 nm 1000us)(LpTimeMap)', '2 420.00 nm (LpTimeMap)(MOF3 DMSO Ar 410 540 nm 1000us)(LpTimeMap)', '3 430.00 nm (LpTimeMap)(MOF3 DMSO Ar 410 540 nm 1000us)(LpTimeMap)', '4 440.00 nm (LpTimeMap)(MOF3 DMSO Ar 410 540 nm 1000us)(LpTimeMap)', '5 450.00 nm (LpTimeMap)(MOF3 DMSO Ar 410 540 nm 1000us)(LpTimeMap)', '6 460.00 nm (LpTimeMap)(MOF3 DMSO Ar 410 540 nm 1000us)(LpTimeMap)', '7 470.00 nm (LpTimeMap)(MOF3 DMSO Ar 410 540 nm 1000us)(LpTimeMap)', '8 480.00 nm (LpTimeMap)(MOF3 DMSO Ar 410 540 nm 1000us)(LpTimeMap)', '9 490.00 nm (LpTimeMap)(MOF3 DMSO Ar 410 540 nm 1000us)(LpTimeMap)', '10 500.00 nm (LpTimeMap)(MOF3 DMSO Ar 410 540 nm 1000us)(LpTimeMap)', '11 510.00 nm (LpTimeMap)(MOF3 DMSO Ar 410 540 nm 1000us)(LpTimeMap)', '12 520.00 nm (LpTimeMap)(MOF3 DMSO Ar 410 540 nm 1000us)(LpTimeMap)', '13 530.00 nm (LpTimeMap)(MOF3 DMSO Ar 410 540 nm 1000us)(LpTimeMap)', '14 540.00 nm (LpTimeMap)(MOF3 DMSO Ar 410 540 nm 1000us)(LpTimeMap)', '1 550.00 nm (LpTimeMap)(MOF3 DMSO Ar 550 700 nm 1000us)(LpTimeMap)', '2 560.00 nm (LpTimeMap)(MOF3 DMSO Ar 550 700 nm 1000us)(LpTimeMap)', '3 570.00 nm (LpTimeMap)(MOF3 DMSO Ar 550 700 nm 1000us)(LpTimeMap)', '4 580.00 nm (LpTimeMap)(MOF3 DMSO Ar 550 700 nm 1000us)(LpTimeMap)', '5 590.00 nm (LpTimeMap)(MOF3 DMSO Ar 550 700 nm 1000us)(LpTimeMap)', '6 600.00 nm (LpTimeMap)(MOF3 DMSO Ar 550 700 nm 1000us)(LpTimeMap)', '7 610.00 nm (LpTimeMap)(MOF3 DMSO Ar 550 700 nm 1000us)(LpTimeMap)', '8 620.00 nm (LpTimeMap)(MOF3 DMSO Ar 550 700 nm 1000us)(LpTimeMap)', '9 630.00 nm (LpTimeMap)(MOF3 DMSO Ar 550 700 nm 1000us)(LpTimeMap)', '10 640.00 nm (LpTimeMap)(MOF3 DMSO Ar 550 700 nm 1000us)(LpTimeMap)', '11 650.00 nm (LpTimeMap)(MOF3 DMSO Ar 550 700 nm 1000us)(LpTimeMap)', '12 660.00 nm (LpTimeMap)(MOF3 DMSO Ar 550 700 nm 1000us)(LpTimeMap)', '13 670.00 nm (LpTimeMap)(MOF3 DMSO Ar 550 700 nm 1000us)(LpTimeMap)', '14 680.00 nm (LpTimeMap)(MOF3 DMSO Ar 550 700 nm 1000us)(LpTimeMap)', '15 690.00 nm (LpTimeMap)(MOF3 DMSO Ar 550 700 nm 1000us)(LpTimeMap)', '16 700.00 nm (LpTimeMap)(MOF3 DMSO Ar 550 700 nm 1000us)(LpTimeMap)']\n",
            "['1 350.00 nm (LpTimeMap)(TCPP DMSO AR 350 400 nm 100 us)(LpTimeMap)', '2 360.00 nm (LpTimeMap)(TCPP DMSO AR 350 400 nm 100 us)(LpTimeMap)', '3 370.00 nm (LpTimeMap)(TCPP DMSO AR 350 400 nm 100 us)(LpTimeMap)', '4 380.00 nm (LpTimeMap)(TCPP DMSO AR 350 400 nm 100 us)(LpTimeMap)', '5 390.00 nm (LpTimeMap)(TCPP DMSO AR 350 400 nm 100 us)(LpTimeMap)', '6 400.00 nm (LpTimeMap)(TCPP DMSO AR 350 400 nm 100 us)(LpTimeMap)', '1 410.00 nm (LpTimeMap)(LpTimeMap)(Extraction (TCPP DMSO AR 410 500 nm 100 us))(LpTimeMap)', '2 420.00 nm (LpTimeMap)(LpTimeMap)(Extraction (TCPP DMSO AR 410 500 nm 100 us))(LpTimeMap)', '3 430.00 nm (LpTimeMap)(LpTimeMap)(Extraction (TCPP DMSO AR 410 500 nm 100 us))(LpTimeMap)', '4 440.00 nm (LpTimeMap)(LpTimeMap)(Extraction (TCPP DMSO AR 410 500 nm 100 us))(LpTimeMap)', '5 450.00 nm (LpTimeMap)(LpTimeMap)(Extraction (TCPP DMSO AR 410 500 nm 100 us))(LpTimeMap)', '6 460.00 nm (LpTimeMap)(LpTimeMap)(Extraction (TCPP DMSO AR 410 500 nm 100 us))(LpTimeMap)', 'TCPP DMSO AR 470 nm 100 us(LpTimeMap)', '8 480.00 nm (LpTimeMap)(LpTimeMap)(Extraction (TCPP DMSO AR 410 500 nm 100 us))(LpTimeMap)', '9 490.00 nm (LpTimeMap)(LpTimeMap)(Extraction (TCPP DMSO AR 410 500 nm 100 us))(LpTimeMap)', '10 500.00 nm (LpTimeMap)(LpTimeMap)(Extraction (TCPP DMSO AR 410 500 nm 100 us))(LpTimeMap)', '1 510.00 nm (LpTimeMap)(TCPP DMSO AR 510 700 nm 100 us)(LpTimeMap)', '2 520.00 nm (LpTimeMap)(TCPP DMSO AR 510 700 nm 100 us)(LpTimeMap)', '3 530.00 nm (LpTimeMap)(TCPP DMSO AR 510 700 nm 100 us)(LpTimeMap)', '4 540.00 nm (LpTimeMap)(TCPP DMSO AR 510 700 nm 100 us)(LpTimeMap)', '5 550.00 nm (LpTimeMap)(TCPP DMSO AR 510 700 nm 100 us)(LpTimeMap)', '6 560.00 nm (LpTimeMap)(TCPP DMSO AR 510 700 nm 100 us)(LpTimeMap)', '7 570.00 nm (LpTimeMap)(TCPP DMSO AR 510 700 nm 100 us)(LpTimeMap)', '8 580.00 nm (LpTimeMap)(TCPP DMSO AR 510 700 nm 100 us)(LpTimeMap)', '9 590.00 nm (LpTimeMap)(TCPP DMSO AR 510 700 nm 100 us)(LpTimeMap)', '10 600.00 nm (LpTimeMap)(TCPP DMSO AR 510 700 nm 100 us)(LpTimeMap)', '11 610.00 nm (LpTimeMap)(TCPP DMSO AR 510 700 nm 100 us)(LpTimeMap)', '12 620.00 nm (LpTimeMap)(TCPP DMSO AR 510 700 nm 100 us)(LpTimeMap)', '13 630.00 nm (LpTimeMap)(TCPP DMSO AR 510 700 nm 100 us)(LpTimeMap)', '14 640.00 nm (LpTimeMap)(TCPP DMSO AR 510 700 nm 100 us)(LpTimeMap)', '15 650.00 nm (LpTimeMap)(TCPP DMSO AR 510 700 nm 100 us)(LpTimeMap)', '16 660.00 nm (LpTimeMap)(TCPP DMSO AR 510 700 nm 100 us)(LpTimeMap)', '17 670.00 nm (LpTimeMap)(TCPP DMSO AR 510 700 nm 100 us)(LpTimeMap)', '18 680.00 nm (LpTimeMap)(TCPP DMSO AR 510 700 nm 100 us)(LpTimeMap)', '19 690.00 nm (LpTimeMap)(TCPP DMSO AR 510 700 nm 100 us)(LpTimeMap)', '20 700.00 nm (LpTimeMap)(TCPP DMSO AR 510 700 nm 100 us)(LpTimeMap)']\n",
            "updating: content/results/ (stored 0%)\n",
            "updating: content/results/TCPP DMSO AR 350 700 nm 100 us_glotaran.png (deflated 19%)\n",
            "updating: content/results/MOF1 DMSO Ar 350 700 nm 1000us_glotaran.ascii (deflated 66%)\n",
            "updating: content/results/MOF2 DMSO Ar 350 700 nm 1000us_glotaran.png (deflated 4%)\n",
            "updating: content/results/MOF1 DMSO Ar 350 700 nm 1000us_glotaran.png (deflated 7%)\n",
            "updating: content/results/MOF2 DMSO Ar 350 700 nm 1000us_glotaran.ascii (deflated 66%)\n",
            "updating: content/results/MOF3 DMSO Ar 350 700 nm 1000us_glotaran.ascii (deflated 66%)\n",
            "updating: content/results/MOF3 DMSO Ar 350 700 nm 1000us_glotaran.png (deflated 10%)\n",
            "updating: content/results/TCPP DMSO AR 350 700 nm 100 us_glotaran.ascii (deflated 66%)\n"
          ]
        },
        {
          "output_type": "display_data",
          "data": {
            "application/javascript": [
              "\n",
              "    async function download(id, filename, size) {\n",
              "      if (!google.colab.kernel.accessAllowed) {\n",
              "        return;\n",
              "      }\n",
              "      const div = document.createElement('div');\n",
              "      const label = document.createElement('label');\n",
              "      label.textContent = `Downloading \"${filename}\": `;\n",
              "      div.appendChild(label);\n",
              "      const progress = document.createElement('progress');\n",
              "      progress.max = size;\n",
              "      div.appendChild(progress);\n",
              "      document.body.appendChild(div);\n",
              "\n",
              "      const buffers = [];\n",
              "      let downloaded = 0;\n",
              "\n",
              "      const channel = await google.colab.kernel.comms.open(id);\n",
              "      // Send a message to notify the kernel that we're ready.\n",
              "      channel.send({})\n",
              "\n",
              "      for await (const message of channel.messages) {\n",
              "        // Send a message to notify the kernel that we're ready.\n",
              "        channel.send({})\n",
              "        if (message.buffers) {\n",
              "          for (const buffer of message.buffers) {\n",
              "            buffers.push(buffer);\n",
              "            downloaded += buffer.byteLength;\n",
              "            progress.value = downloaded;\n",
              "          }\n",
              "        }\n",
              "      }\n",
              "      const blob = new Blob(buffers, {type: 'application/binary'});\n",
              "      const a = document.createElement('a');\n",
              "      a.href = window.URL.createObjectURL(blob);\n",
              "      a.download = filename;\n",
              "      div.appendChild(a);\n",
              "      a.click();\n",
              "      div.remove();\n",
              "    }\n",
              "  "
            ],
            "text/plain": [
              "<IPython.core.display.Javascript object>"
            ]
          },
          "metadata": {}
        },
        {
          "output_type": "display_data",
          "data": {
            "application/javascript": [
              "download(\"download_6df5cfe6-2d8c-430f-8d33-5821b50ce165\", \"results.zip\", 8547138)"
            ],
            "text/plain": [
              "<IPython.core.display.Javascript object>"
            ]
          },
          "metadata": {}
        },
        {
          "output_type": "display_data",
          "data": {
            "text/plain": [
              "<Figure size 432x288 with 0 Axes>"
            ]
          },
          "metadata": {}
        }
      ]
    },
    {
      "cell_type": "code",
      "metadata": {
        "colab": {
          "base_uri": "https://localhost:8080/"
        },
        "id": "UbKSKYwl-DAY",
        "outputId": "bf9dd795-3655-465f-e1ee-9e7e7fb1a129"
      },
      "source": [
        "float(\"350.\")"
      ],
      "execution_count": 14,
      "outputs": [
        {
          "output_type": "execute_result",
          "data": {
            "text/plain": [
              "350.0"
            ]
          },
          "metadata": {},
          "execution_count": 14
        }
      ]
    }
  ]
}